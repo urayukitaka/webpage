{
 "cells": [
  {
   "cell_type": "code",
   "execution_count": 2,
   "metadata": {},
   "outputs": [],
   "source": [
    "import pandas as pd\n",
    "import numpy as np\n",
    "import os\n",
    "import shutil\n",
    "import glob\n",
    "import matplotlib.pyplot as plt"
   ]
  },
  {
   "cell_type": "code",
   "execution_count": 3,
   "metadata": {},
   "outputs": [],
   "source": [
    "ROOT = \"../\""
   ]
  },
  {
   "cell_type": "code",
   "execution_count": 4,
   "metadata": {},
   "outputs": [],
   "source": [
    "# Make sample dataset\n",
    "filedir = os.path.join(ROOT, \"data/files\")\n",
    "graphdir = os.path.join(ROOT, \"data/graphs\")\n",
    "dataset = []\n",
    "# make data 200\n",
    "for i in range(200):\n",
    "    # no\n",
    "    no = i\n",
    "    dc = \"detect{}\".format(\"A\" if i%100//25==0 else \"B\" if i%100//25==1 else \"C\" if i%100//25==2 else \"D\")\n",
    "    prd = \"product{}\".format(\"A\" if i//50==0 else \"B\" if i//50==1 else \"C\" if i//50==2 else \"D\")\n",
    "    tst = \"test_{}\".format(i%100)\n",
    "    score = round(np.random.random(),3)\n",
    "    ucl, lcl = 0.8, 0.1\n",
    "    judge = \"NG_over_spec\" if score>ucl else \"NG_under_spec\" if score<lcl else \"OK\"\n",
    "\n",
    "    # data\n",
    "    savedir = os.path.join(filedir, f\"data_{i}\")\n",
    "    os.makedirs(savedir)\n",
    "    data = pd.DataFrame({\n",
    "        \"index\":np.linspace(1, 10000,10000).astype(\"int\"),\n",
    "        \"data\":np.random.rand(10000)\n",
    "    })\n",
    "    # save\n",
    "    data.to_csv(os.path.join(savedir, \"data.csv\"), index=False)\n",
    "    # zip\n",
    "    shutil.make_archive(savedir, \"zip\", savedir)\n",
    "    savefile = savedir + \".zip\"\n",
    "    # delete base data\n",
    "    shutil.rmtree(savedir)\n",
    "\n",
    "    # graph\n",
    "    savegraphdir = os.path.join(graphdir, f\"data_{i}\")\n",
    "    os.makedirs(savegraphdir, exist_ok=True)\n",
    "    savegraph = os.path.join(savegraphdir, \"graph.png\")\n",
    "    # data\n",
    "    y = np.random.rand(200)\n",
    "    x = np.arange(200)\n",
    "    # plot\n",
    "    plt.figure(figsize=(25,5))\n",
    "    plt.plot(x, y)\n",
    "    plt.hlines(ucl, xmin=np.min(x), xmax=np.max(x), color=\"red\", label=\"ucl\")\n",
    "    plt.hlines(lcl, xmin=np.min(x), xmax=np.max(x), color=\"red\", label=\"lcl\")\n",
    "    plt.xlabel(\"x\")\n",
    "    plt.ylabel(\"y\")\n",
    "    plt.grid()\n",
    "    plt.savefig(savegraph)\n",
    "    plt.close()\n",
    "\n",
    "    # append result\n",
    "    dataset.append(\n",
    "        [no, dc, prd, tst, score, judge, ucl, lcl, savefile.replace(\"../\",\"\"), savegraph.replace(\"../\",\"\")]\n",
    "    )\n",
    "\n",
    "# make dataset\n",
    "dataset = pd.DataFrame(dataset,\n",
    "                        columns = [\n",
    "                            \"no\", \"detect_category\", \"product\", \"test\", \"score\",\n",
    "                            \"judge\", \"ucl\", \"lcl\", \"zipfile\", \"graphpath\"\n",
    "                        ])"
   ]
  },
  {
   "cell_type": "code",
   "execution_count": 5,
   "metadata": {},
   "outputs": [],
   "source": [
    "# save\n",
    "dataset.to_csv(\n",
    "    os.path.join(\n",
    "        ROOT, \"data\", \"detection_tbl.csv\"\n",
    "    ), index=False, encoding=\"CP932\"\n",
    ")"
   ]
  },
  {
   "cell_type": "code",
   "execution_count": null,
   "metadata": {},
   "outputs": [],
   "source": []
  }
 ],
 "metadata": {
  "kernelspec": {
   "display_name": "Python 3",
   "language": "python",
   "name": "python3"
  },
  "language_info": {
   "codemirror_mode": {
    "name": "ipython",
    "version": 3
   },
   "file_extension": ".py",
   "mimetype": "text/x-python",
   "name": "python",
   "nbconvert_exporter": "python",
   "pygments_lexer": "ipython3",
   "version": "3.9.7"
  }
 },
 "nbformat": 4,
 "nbformat_minor": 2
}
